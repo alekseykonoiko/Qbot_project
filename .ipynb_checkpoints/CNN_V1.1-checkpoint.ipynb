{
 "cells": [
  {
   "cell_type": "code",
   "execution_count": null,
   "metadata": {},
   "outputs": [],
   "source": [
    "import os\n",
    "#os.environ['CUDA_VISIBLE_DEVICES'] = '-1' #Comment to Enable GPU\n",
    "import numpy as np\n",
    "from numpy import array\n",
    "from random import randint\n",
    "from sklearn.preprocessing import MinMaxScaler\n",
    "import pandas as pd\n",
    "import scipy.io as sio\n",
    "from numpy import genfromtxt\n",
    "import matplotlib.pyplot as plt\n",
    "np.random.seed(1337)\n",
    "import keras\n",
    "from keras import layers\n",
    "from keras.layers import *\n",
    "from keras.utils import *\n",
    "from keras.models import *\n",
    "from keras.preprocessing.image import ImageDataGenerator\n",
    "\n",
    "save_dir = os.path.join(os.getcwd(), 'saved_models')\n",
    "model_name = 'keras__trained_model.h5'"
   ]
  },
  {
   "cell_type": "code",
   "execution_count": null,
   "metadata": {},
   "outputs": [],
   "source": [
    "#### Load matlab 3 dimensional array into Jupiter notebook ####\n",
    "\n",
    "## type 5,10,15 & un/trimmed correspondingly into image_<type_here>per_<type_here> to choose data ## \n",
    "mat_contents = sio.loadmat('image_5per_trimmed.mat') #loads .mat file\n",
    "\n",
    "## type 5,10,15 & un/trimmed correspondingly into X<type_here>_<type_here> to choose data ##\n",
    "image_data5=mat_contents['X5_trimmed'] #extracts data from .mat file\n",
    "print ('5% water image shape', image_data5.shape)\n",
    "\n",
    "mat_contents = sio.loadmat('image_10per_trimmed.mat') #loads .mat file\n",
    "image_data10=mat_contents['X10_trimmed'] #extracts data from .mat file\n",
    "print ('10% water image shape', image_data10.shape)\n",
    "\n",
    "mat_contents = sio.loadmat('image_15per_trimmed.mat') #loads .mat file\n",
    "image_data15=mat_contents['X15_trimmed'] #extracts data from .mat file\n",
    "print ('15% water image shape', image_data15.shape)"
   ]
  },
  {
   "cell_type": "code",
   "execution_count": null,
   "metadata": {},
   "outputs": [],
   "source": [
    "matplotlib qt"
   ]
  },
  {
   "cell_type": "code",
   "execution_count": null,
   "metadata": {},
   "outputs": [],
   "source": [
    "import wx\n",
    "app = wx.App(False)"
   ]
  },
  {
   "cell_type": "code",
   "execution_count": null,
   "metadata": {
    "scrolled": true
   },
   "outputs": [],
   "source": [
    "#### To check data validity visually ####\n",
    "from spectral import *\n",
    "view = imshow(image_data5)\n",
    "title_obj = plt.title('5% water image')\n",
    "\n",
    "view = imshow(image_data10)\n",
    "title_obj = plt.title('10% water image')\n",
    "\n",
    "view = imshow(image_data15)\n",
    "title_obj = plt.title('15% water image')"
   ]
  },
  {
   "cell_type": "code",
   "execution_count": null,
   "metadata": {},
   "outputs": [],
   "source": [
    "xxx = image_data10[0:32,32:64,:]\n",
    "print (xxx.shape)\n",
    "print(xxx)\n",
    "view = imshow(xxx)\n",
    "title_obj = plt.title('10% water image')"
   ]
  },
  {
   "cell_type": "code",
   "execution_count": null,
   "metadata": {},
   "outputs": [],
   "source": [
    "#### cifar10 training data for reference ####\n",
    "from keras.datasets import cifar10\n",
    "\n",
    "(x_train, y_train), (x_test, y_test) = cifar10.load_data()\n",
    "\n",
    "print('Training data shape:', x_train.shape)\n",
    "print('Labels array shape:', y_train.shape)"
   ]
  },
  {
   "cell_type": "code",
   "execution_count": null,
   "metadata": {},
   "outputs": [],
   "source": [
    "#### cifar10 labels array data check ####\n",
    "xxx = y_train[:10]\n",
    "print (xxx.shape)\n",
    "print(xxx)"
   ]
  },
  {
   "cell_type": "code",
   "execution_count": null,
   "metadata": {},
   "outputs": [],
   "source": [
    "# The data, split between train and test sets:\n",
    "from keras.datasets import cifar10\n",
    "(x_train, y_train), (x_test, y_test) = cifar10.load_data()\n",
    "\n",
    "print('x_train shape:', x_train.shape)\n",
    "\n",
    "print(x_train.shape[0], 'train samples')\n",
    "\n",
    "print(x_test.shape[0], 'test samples')"
   ]
  },
  {
   "cell_type": "code",
   "execution_count": null,
   "metadata": {},
   "outputs": [],
   "source": [
    "#### Segment picture into multiple pictures and arrnage in cifar10 dataset style ####\n",
    "image_data_segments = list()\n",
    "image_data_segments_test = list()\n",
    "n=8 #defines number of segmentation per side (only even number)\n",
    "p=32 #defines target segmented picture size\n",
    "k=0 #counter for picture height segmentation\n",
    "\n",
    "for i in range(0, n):\n",
    "    for j in range(0, n):\n",
    "        #Segments picture row by row\n",
    "        if j<n-1:\n",
    "            image_data_segment5 = image_data5[p*k:p*(k+1),p*j:p*(j+1),:]\n",
    "            image_data_segments.append(image_data_segment5)\n",
    "        else:\n",
    "            image_data_segment5 = image_data5[p*k:p*(k+1),p*j:p*(j+1),:]\n",
    "            image_data_segments_test.append(image_data_segment5)\n",
    "    for j in range(0, n):\n",
    "        if j<n-1:\n",
    "            image_data_segment10 = image_data10[p*k:p*(k+1),p*j:p*(j+1),:]\n",
    "            image_data_segments.append(image_data_segment10)\n",
    "        else:\n",
    "            image_data_segment10 = image_data10[p*k:p*(k+1),p*j:p*(j+1),:]\n",
    "            image_data_segments_test.append(image_data_segment10)\n",
    "    for j in range(0, n):\n",
    "        if j<n-1:\n",
    "            image_data_segment15 = image_data15[p*k:p*(k+1),p*j:p*(j+1),:]\n",
    "            image_data_segments.append(image_data_segment15)\n",
    "        else:\n",
    "            image_data_segment15 = image_data15[p*k:p*(k+1),p*j:p*(j+1),:]\n",
    "            image_data_segments_test.append(image_data_segment15)\n",
    "    k += 1\n",
    "    \n",
    "\n",
    "x_train = array(image_data_segments)\n",
    "x_test = array(image_data_segments_test)\n",
    "print ('x_train shape:', x_train.shape)\n",
    "print ('x_test shape:', x_test.shape)\n",
    "\n",
    "##  Create cifar10 style labels array \n",
    "y_labels = list()\n",
    "y_labels_test = list()\n",
    "label = np.array([0, 1, 2]) #sets label class value\n",
    "\n",
    "for i in range(0, ((n*n)*3)//3):\n",
    "    if i<(n-1)*n:\n",
    "        y_label=label[0]\n",
    "        y_labels.append(y_label)\n",
    "    else:\n",
    "        y_label=label[0]\n",
    "        y_labels_test.append(y_label) \n",
    "for i in range(0, ((n*n)*3)//3):\n",
    "    if i<(n-1)*n:\n",
    "        y_label=label[1]\n",
    "        y_labels.append(y_label)\n",
    "    else:\n",
    "        y_label=label[1]\n",
    "        y_labels_test.append(y_label)    \n",
    "for i in range(0, ((n*n)*3)//3):\n",
    "    if i<(n-1)*n:\n",
    "        y_label=label[2]\n",
    "        y_labels.append(y_label)\n",
    "    else:\n",
    "        y_label=label[2]\n",
    "        y_labels_test.append(y_label) \n",
    "    \n",
    "y_train = array(y_labels)\n",
    "y_train = y_train.reshape(len(x_train), 1)\n",
    "y_test = array(y_labels_test)\n",
    "y_test = y_test.reshape(len(x_test), 1)\n",
    "\n",
    "print ('y_train shape:', y_train.shape)\n",
    "print ('y_test shape:', y_test.shape)\n",
    "#print ('Labels array:', y_train)\n"
   ]
  },
  {
   "cell_type": "code",
   "execution_count": null,
   "metadata": {},
   "outputs": [],
   "source": [
    "#### Print specific segment of x_train ####\n",
    "for\n",
    "segment = x_train[57]\n",
    "view = imshow(segment)"
   ]
  },
  {
   "cell_type": "code",
   "execution_count": null,
   "metadata": {},
   "outputs": [],
   "source": [
    "#### Prepeocess training data ####\n",
    "\n",
    "## hyperparameters section \n",
    "batch_size = 32\n",
    "num_classes = 3\n",
    "epochs = 10\n",
    "num_predictions = 5\n",
    "\n",
    "## Convert class vectors to binary class matrices.\n",
    "\n",
    "y_train = keras.utils.to_categorical(y_train, num_classes)\n",
    "\n",
    "y_test = keras.utils.to_categorical(y_test, num_classes)\n",
    "\n",
    "#print (y_train)\n",
    "#print (y_test)"
   ]
  },
  {
   "cell_type": "code",
   "execution_count": null,
   "metadata": {},
   "outputs": [],
   "source": [
    "#### CNN structure (Functional Model Style) ####\n",
    "\n",
    "visible = Input(shape=(32,32,288))\n",
    "\n",
    "conv1 = Conv2D(144, kernel_size=1, activation='relu')(visible)\n",
    "conv2 = Conv2D(72, kernel_size=1, activation='relu')(conv1)\n",
    "conv3 = Conv2D(64, kernel_size=1, activation='relu')(conv2)\n",
    "pool1 = MaxPooling2D(pool_size=(2, 2))(conv1)\n",
    "\n",
    "conv4 = Conv2D(64, kernel_size=3, padding='same' ,activation='relu',)(pool1)\n",
    "conv5 = Conv2D(64, kernel_size=3, padding='same' ,activation='relu',)(conv4)\n",
    "pool2 = MaxPooling2D(pool_size=(2, 2))(conv4)\n",
    "\n",
    "conv6 = Conv2D(64, kernel_size=3, padding='same' ,activation='relu',)(pool2)\n",
    "conv7 = Conv2D(64, kernel_size=3, padding='same' ,activation='relu',)(conv6)\n",
    "pool3 = MaxPooling2D(pool_size=(2, 2))(conv7)\n",
    "\n",
    "flat1 = Flatten()(pool3)\n",
    "hidden1 = Dense(256, activation='relu')(flat1)\n",
    "output = Dense(num_classes, activation='softmax')(hidden1)\n",
    "model = Model(inputs=visible, outputs=output)\n",
    "\n",
    "## initiate RMSprop optimizer\n",
    "\n",
    "opt = keras.optimizers.rmsprop(lr=0.0001, decay=1e-6)\n",
    "\n",
    "## Let's train the model using RMSprop\n",
    "\n",
    "model.compile(loss='categorical_crossentropy', \n",
    "              \n",
    "              optimizer=opt, \n",
    "              \n",
    "              metrics=['accuracy'])\n",
    "## Scale 0-255 bands range into float 0-1\n",
    "x_train = x_train.astype('float32')\n",
    "\n",
    "x_test = x_test.astype('float32')\n",
    "\n",
    "x_train /= 255\n",
    "\n",
    "x_test /= 255\n",
    "\n",
    "print(model.summary()) # summarize layers\n",
    "plot_model(model, \n",
    "           \n",
    "           to_file='convolutional_neural_network.png') # plot graph\n"
   ]
  },
  {
   "cell_type": "code",
   "execution_count": null,
   "metadata": {},
   "outputs": [],
   "source": [
    "model.fit(x_train, y_train,\n",
    "          \n",
    "              batch_size=batch_size,\n",
    "\n",
    "              epochs=epochs,\n",
    "\n",
    "              validation_data=(x_test, y_test),\n",
    "          \n",
    "              verbose=1,\n",
    "\n",
    "              shuffle=True)"
   ]
  },
  {
   "cell_type": "code",
   "execution_count": null,
   "metadata": {},
   "outputs": [],
   "source": [
    "model_path = os.path.join(save_dir, model_name)\n",
    "\n",
    "model.save(model_path)\n",
    "\n",
    "print('Saved trained model at %s ' % model_path)"
   ]
  },
  {
   "cell_type": "code",
   "execution_count": null,
   "metadata": {},
   "outputs": [],
   "source": [
    "scores = model.evaluate(x_test, y_test, verbose=1)\n",
    "\n",
    "print('Test loss:', scores[0])\n",
    "\n",
    "print('Test accuracy:', scores[1])"
   ]
  },
  {
   "cell_type": "code",
   "execution_count": null,
   "metadata": {},
   "outputs": [],
   "source": []
  }
 ],
 "metadata": {
  "kernelspec": {
   "display_name": "Python 3",
   "language": "python",
   "name": "python3"
  },
  "language_info": {
   "codemirror_mode": {
    "name": "ipython",
    "version": 3
   },
   "file_extension": ".py",
   "mimetype": "text/x-python",
   "name": "python",
   "nbconvert_exporter": "python",
   "pygments_lexer": "ipython3",
   "version": "3.5.4"
  }
 },
 "nbformat": 4,
 "nbformat_minor": 2
}
