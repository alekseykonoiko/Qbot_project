{
 "cells": [
  {
   "cell_type": "code",
   "execution_count": null,
   "metadata": {},
   "outputs": [],
   "source": [
    "import os\n",
    "#os.environ['CUDA_VISIBLE_DEVICES'] = '-1' #Comment to Enable GPU\n",
    "import numpy as np\n",
    "from numpy import array\n",
    "from random import randint\n",
    "from sklearn.preprocessing import MinMaxScaler\n",
    "import pandas as pd\n",
    "import scipy.io as sio\n",
    "from numpy import genfromtxt\n",
    "import matplotlib.pyplot as plt\n",
    "np.random.seed(1337)\n",
    "import keras\n",
    "from keras import layers\n",
    "from keras.layers import *\n",
    "from keras.utils import plot_model\n",
    "from keras.models import *"
   ]
  },
  {
   "cell_type": "code",
   "execution_count": null,
   "metadata": {},
   "outputs": [],
   "source": [
    "#Load matlab 3 dimensional array into Jupiter notebook\n",
    "#type 5,10,15 & un/trimmed correspondingly into image_<type_here>per_<type_here> to choose data \n",
    "mat_contents = sio.loadmat('image_5per_trimmed.mat')\n",
    "#type 5,10,15 & un/trimmed correspondingly into X<type_here>_<type_here> to choose data \n",
    "image_data=mat_contents['X5_trimmed']\n",
    "image_data.shape"
   ]
  },
  {
   "cell_type": "code",
   "execution_count": null,
   "metadata": {},
   "outputs": [],
   "source": [
    "matplotlib qt"
   ]
  },
  {
   "cell_type": "code",
   "execution_count": null,
   "metadata": {},
   "outputs": [],
   "source": [
    "import wx\n",
    "app = wx.App(False)"
   ]
  },
  {
   "cell_type": "code",
   "execution_count": null,
   "metadata": {},
   "outputs": [],
   "source": [
    "#To check data validity\n",
    "from spectral import *\n",
    "view = imshow(image_data)"
   ]
  },
  {
   "cell_type": "code",
   "execution_count": null,
   "metadata": {},
   "outputs": [],
   "source": [
    "#CNN structure (Sequential Model Style)\n",
    "\n",
    "model = Sequential()\n",
    "model.add(Conv2D(144, (1, 1), padding='same', input_shape=(256, 256, 288), data_format=\"channels_last\"))\n",
    "model.add(Activation('relu'))\n",
    "\n",
    "model.add(Conv2D(72, (1, 1)))\n",
    "model.add(Activation('relu'))\n",
    "\n",
    "model.add(Conv2D(64, (1, 1)))\n",
    "model.add(Activation('relu'))\n",
    "\n",
    "model.add(MaxPooling2D(pool_size=(2, 2)))\n",
    "model.add(Dropout(0.25))\n",
    "\n",
    "\n",
    "model.add(Conv2D(64, (5, 5), padding='same'))\n",
    "model.add(Activation('relu'))\n",
    "\n",
    "model.add(Conv2D(64, (5, 5), padding='same'))\n",
    "model.add(Activation('relu'))\n",
    "\n",
    "model.add(MaxPooling2D(pool_size=(2, 2)))\n",
    "model.add(Dropout(0.25))\n",
    "\n",
    "\n",
    "\n",
    "model.add(Flatten())\n",
    "\n",
    "model.add(Dense(512))\n",
    "\n",
    "model.add(Activation('relu'))\n",
    "\n",
    "model.add(Dropout(0.5))\n",
    "\n",
    "model.add(Activation('softmax'))\n",
    "\n",
    "# summarize layers\n",
    "print(model.summary())\n",
    "# plot graph\n",
    "plot_model(model, to_file='convolutional_neural_network.png') "
   ]
  },
  {
   "cell_type": "code",
   "execution_count": null,
   "metadata": {},
   "outputs": [],
   "source": [
    "#CNN structure (Functional Model Style)\n",
    "\n",
    "visible = Input(shape=(256,256,288))\n",
    "conv1 = Conv2D(144, kernel_size=1, activation='relu')(visible)\n",
    "conv2 = Conv2D(72, kernel_size=1, activation='relu')(conv1)\n",
    "conv3 = Conv2D(64, kernel_size=1, activation='relu')(conv2)\n",
    "pool1 = MaxPooling2D(pool_size=(2, 2))(conv1)\n",
    "\n",
    "conv4 = Conv2D(64, kernel_size=5, padding='same' ,activation='relu',)(pool1)\n",
    "conv5 = Conv2D(64, kernel_size=5, padding='same' ,activation='relu',)(conv4)\n",
    "pool2 = MaxPooling2D(pool_size=(2, 2))(conv4)\n",
    "\n",
    "conv6 = Conv2D(64, kernel_size=3, padding='same' ,activation='relu',)(pool2)\n",
    "conv7 = Conv2D(64, kernel_size=3, padding='same' ,activation='relu',)(conv6)\n",
    "pool3 = MaxPooling2D(pool_size=(2, 2))(conv7)\n",
    "\n",
    "flat1 = Flatten()(pool3)\n",
    "hidden1 = Dense(100, activation='relu')(flat1)\n",
    "output = Dense(1, activation='sigmoid')(hidden1)\n",
    "model = Model(inputs=visible, outputs=output)\n",
    "# summarize layers\n",
    "print(model.summary())\n",
    "# plot graph\n",
    "plot_model(model, to_file='convolutional_neural_network.png')"
   ]
  }
 ],
 "metadata": {
  "kernelspec": {
   "display_name": "Python 3",
   "language": "python",
   "name": "python3"
  },
  "language_info": {
   "codemirror_mode": {
    "name": "ipython",
    "version": 3
   },
   "file_extension": ".py",
   "mimetype": "text/x-python",
   "name": "python",
   "nbconvert_exporter": "python",
   "pygments_lexer": "ipython3",
   "version": "3.5.4"
  }
 },
 "nbformat": 4,
 "nbformat_minor": 2
}
