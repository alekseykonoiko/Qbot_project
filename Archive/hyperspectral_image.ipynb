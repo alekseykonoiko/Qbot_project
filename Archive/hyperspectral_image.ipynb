{
 "cells": [
  {
   "cell_type": "code",
   "execution_count": null,
   "metadata": {},
   "outputs": [],
   "source": [
    "matplotlib qt"
   ]
  },
  {
   "cell_type": "code",
   "execution_count": null,
   "metadata": {},
   "outputs": [],
   "source": [
    "import wx\n",
    "app = wx.App(False)"
   ]
  },
  {
   "cell_type": "code",
   "execution_count": null,
   "metadata": {},
   "outputs": [],
   "source": [
    "#Show 2D pic of all bands overlayed with defined transparency Aleksey\n",
    "from spectral import *\n",
    "img = envi.open('C:\\\\Users\\\\lesha\\\\Box Sync\\\\Q-bot Project\\\\Original_images\\\\image_15per.hdr')\n",
    "gt = img.read_band(0)\n",
    "view = imshow(img, classes=gt)\n",
    "view.set_display_mode('overlay')\n",
    "view.class_alpha = 0.20 #Transparensy of bands"
   ]
  },
  {
   "cell_type": "code",
   "execution_count": null,
   "metadata": {},
   "outputs": [],
   "source": [
    "#Show 2D pic of all bands overlayed with defined transparency Aleksey\n",
    "from spectral import *\n",
    "img = envi.open('C:\\\\Users\\\\lesha\\\\Box Sync\\\\Q-bot Project\\\\Original_images\\\\image_15per.hdr')\n",
    "img1=img[175:425,0:250,:]\n",
    "#gt = img.read_band(0)\n",
    "view = imshow(img1)"
   ]
  },
  {
   "cell_type": "code",
   "execution_count": null,
   "metadata": {},
   "outputs": [],
   "source": [
    "#Show 2D pic of all bands overlayed with defined transparency Saiful\n",
    "from spectral import *\n",
    "img = envi.open('C:\\\\Users\\\\Saiful\\\\Box Sync\\\\Q-bot Project\\\\SL_reflectance_file\\\\SL_water\\\\Image1.hdr')\n",
    "gt = envi.open('C:\\\\Users\\\\Saiful\\\\Box Sync\\\\Q-bot Project\\\\SL_reflectance_file\\\\SL_water\\\\Image1.hdr').read_band(0)\n",
    "view = imshow(img, (180, 180, 287), classes=gt)\n",
    "view.set_display_mode('overlay')\n",
    "view.class_alpha = 0.20 #Transparensy of bands"
   ]
  },
  {
   "cell_type": "code",
   "execution_count": null,
   "metadata": {},
   "outputs": [],
   "source": [
    "from spectral import *\n",
    "img = envi.open('C:\\\\Users\\\\lesha\\\\Box Sync\\\\Q-bot Project\\\\Data_examples\\\\ENVI\\\\jasperRidge2_F224.hdr')\n",
    "spectral.settings.WX_GL_DEPTH_SIZE = 16\n",
    "view_cube(img, bands=[100, 100, 223])"
   ]
  },
  {
   "cell_type": "code",
   "execution_count": null,
   "metadata": {},
   "outputs": [],
   "source": [
    "#Show 2D pic of all bands overlayed with defined transparency\n",
    "from spectral import *\n",
    "data = envi.open('C:\\\\Users\\\\lesha\\\\Box Sync\\\\Q-bot Project\\\\Original_images\\\\image_15per.hdr').load()\n",
    "gt = envi.open('C:\\\\Users\\\\lesha\\\\Box Sync\\\\Q-bot Project\\\\Original_images\\\\image_15per.hdr').read_band(0)\n",
    "pc = principal_components(data)\n",
    "xdata = pc.transform(data)\n",
    "w = view_nd(xdata[:,:,:15], classes=gt)\n"
   ]
  },
  {
   "cell_type": "code",
   "execution_count": null,
   "metadata": {},
   "outputs": [],
   "source": []
  }
 ],
 "metadata": {
  "kernelspec": {
   "display_name": "Python 3",
   "language": "python",
   "name": "python3"
  },
  "language_info": {
   "codemirror_mode": {
    "name": "ipython",
    "version": 3
   },
   "file_extension": ".py",
   "mimetype": "text/x-python",
   "name": "python",
   "nbconvert_exporter": "python",
   "pygments_lexer": "ipython3",
   "version": "3.5.4"
  }
 },
 "nbformat": 4,
 "nbformat_minor": 2
}
