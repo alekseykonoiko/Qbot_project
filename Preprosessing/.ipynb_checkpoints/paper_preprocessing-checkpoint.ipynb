{
 "cells": [
  {
   "cell_type": "code",
   "execution_count": 1,
   "metadata": {},
   "outputs": [
    {
     "name": "stdout",
     "output_type": "stream",
     "text": [
      "Populating the interactive namespace from numpy and matplotlib\n"
     ]
    },
    {
     "data": {
      "text/plain": [
       "<matplotlib.figure.Figure at 0x10add4210>"
      ]
     },
     "metadata": {},
     "output_type": "display_data"
    }
   ],
   "source": [
    "%pylab inline\n",
    "import matplotlib.pyplot as plt\n",
    "import pylab as pl\n",
    "from sklearn.cross_validation import train_test_split\n",
    "import scipy\n",
    "import seaborn as sns\n",
    "from spectral import imshow\n",
    "from collections import Counter\n",
    "import random\n",
    "import pickle\n",
    "pl.gray()"
   ]
  },
  {
   "cell_type": "code",
   "execution_count": 2,
   "metadata": {
    "collapsed": true
   },
   "outputs": [],
   "source": [
    "##loading images for input and target image\n",
    "import scipy.io as io\n",
    "input_image = io.loadmat('Preprocessing/Indian_pines.mat')['indian_pines']\n",
    "target_image = io.loadmat('Preprocessing/Indian_pines_gt.mat')['indian_pines_gt']"
   ]
  },
  {
   "cell_type": "code",
   "execution_count": null,
   "metadata": {},
   "outputs": [],
   "source": [
    "# plotting the input and target image\n",
    "ip = imshow(input_image,(29, 19, 9))\n",
    "tg = imshow(classes = target_image)\n",
    "view = imshow(input_image, (30, 20, 10), classes=target_image)\n",
    "view.set_display_mode('overlay')\n",
    "view.class_alpha = 0.5\n"
   ]
  },
  {
   "cell_type": "code",
   "execution_count": 4,
   "metadata": {},
   "outputs": [
    {
     "name": "stdout",
     "output_type": "stream",
     "text": [
      "145 x 145\n",
      "220 x 145 x 145\n"
     ]
    }
   ],
   "source": [
    "#Reshaping the images to python convention\n",
    "input_image = input_image.transpose((2,0,1))\n",
    "input_image_height = input_image.shape[1]\n",
    "input_image_width = input_image.shape[2]\n",
    "\n",
    "print input_image_height,'x',input_image_width\n",
    "print len(input_image),'x',len(input_image[0]),'x',len(input_image[0][0])"
   ]
  },
  {
   "cell_type": "code",
   "execution_count": 5,
   "metadata": {
    "collapsed": true
   },
   "outputs": [],
   "source": [
    "## Scaling Down the image to 0 - 1\n",
    "\n",
    "input_image = input_image.astype(float)\n",
    "input_image -= np.min(input_image)\n",
    "input_image /= np.max(input_image) - np.min(input_image) + 1"
   ]
  },
  {
   "cell_type": "code",
   "execution_count": 6,
   "metadata": {},
   "outputs": [],
   "source": [
    "## Preparing patches\n",
    "\n",
    "PATCH_SIZE = 3\n",
    "input_patches = []\n",
    "targets = []\n",
    "\n",
    "for i in xrange(input_image_height-PATCH_SIZE+1):\n",
    "    for j in xrange(input_image_width-PATCH_SIZE+1):\n",
    "\n",
    "        height_slice = slice(i, i+PATCH_SIZE)\n",
    "        width_slice = slice(j, j+PATCH_SIZE)\n",
    "\n",
    "        patch = input_image[:, height_slice, width_slice]\n",
    "\n",
    "        #We pick the target label as the label of the central pixel of the patch\n",
    "        target = int(target_image[i+PATCH_SIZE/2, j+PATCH_SIZE/2])\n",
    "        if target==0:\n",
    "            continue\n",
    "        else:\n",
    "            targets.append(target)\n",
    "            input_patches.append(patch)"
   ]
  },
  {
   "cell_type": "code",
   "execution_count": 7,
   "metadata": {},
   "outputs": [
    {
     "data": {
      "image/png": "[encoded data removed]",
      "text/plain": [
       "<matplotlib.figure.Figure at 0x10ae9de10>"
      ]
     },
     "metadata": {},
     "output_type": "display_data"
    }
   ],
   "source": [
    "#Checking the distribution of data samples\n",
    "sns.countplot(targets)\n",
    "plt.title('Class distribution')\n",
    "plt.show()"
   ]
  },
  {
   "cell_type": "code",
   "execution_count": 8,
   "metadata": {
    "collapsed": true
   },
   "outputs": [],
   "source": [
    "## Converting input_patches and targets to numpy arrays \n",
    "input_patches = np.array(input_patches)\n",
    "targets = np.array(targets)"
   ]
  },
  {
   "cell_type": "code",
   "execution_count": 9,
   "metadata": {
    "collapsed": true
   },
   "outputs": [],
   "source": [
    "## oversampling to remove class imbalance\n",
    "unq, unq_idx = np.unique(targets, return_inverse=True)\n",
    "unq_cnt = np.bincount(unq_idx)\n",
    "cnt = np.max(unq_cnt)\n",
    "n_targets = np.empty((cnt*len(unq),) + targets.shape[1:], targets.dtype)\n",
    "n_input_patches = np.empty((cnt*len(unq),) + input_patches.shape[1:], input_patches.dtype)\n",
    "for j in xrange(len(unq)):\n",
    "    indices = np.random.choice(np.where(unq_idx==j)[0], cnt)\n",
    "    n_targets[j*cnt:(j+1)*cnt] = targets[indices]\n",
    "    n_input_patches[j*cnt:(j+1)*cnt] = input_patches[indices]\n",
    "    "
   ]
  },
  {
   "cell_type": "code",
   "execution_count": 11,
   "metadata": {},
   "outputs": [
    {
     "data": {
      "image/png": "[encoded data removed]",
      "text/plain": [
       "<matplotlib.figure.Figure at 0x10b075950>"
      ]
     },
     "metadata": {},
     "output_type": "display_data"
    }
   ],
   "source": [
    "sns.countplot(n_targets)\n",
    "plt.title('Class distribution')\n",
    "plt.show()"
   ]
  },
  {
   "cell_type": "code",
   "execution_count": 12,
   "metadata": {},
   "outputs": [],
   "source": [
    "## Mean Normalization\n",
    "\n",
    "for i in range(len(n_input_patches)):\n",
    "    for j in range(len(n_input_patches[i])):\n",
    "        n_input_patches[i][j] -= np.mean(n_input_patches[i][j])"
   ]
  },
  {
   "cell_type": "code",
   "execution_count": 13,
   "metadata": {},
   "outputs": [],
   "source": [
    "#------------------------Making train and test splits---------------------\n",
    "counter = Counter(n_targets)\n",
    "counter = dict(counter)\n",
    "train_count = {}\n",
    "test_count = {}\n",
    "\n",
    "for label in counter.keys():\n",
    "\ttest_count[label] = counter[label]/10\n",
    "\ttrain_count[label] = counter[label] - test_count[label]\n",
    "\n",
    "train_patches = []\n",
    "test_patches = []\n",
    "train_labels = []\n",
    "test_labels = []\n",
    "all_patches = {}\n",
    "\n",
    "for i in xrange(len(n_input_patches)):\n",
    "\tif n_targets[i] not in all_patches.keys() : all_patches[n_targets[i]] = []\n",
    "\tall_patches[n_targets[i]].append(n_input_patches[i])\n",
    "\n",
    "for label in train_count.keys():\n",
    "\tpatches = all_patches[label]\n",
    "\ttrain_patches += patches[:train_count[label]]\n",
    "\ttest_patches += patches[train_count[label]:]\n",
    "\ttrain_labels += [label]*train_count[label]\n",
    "\ttest_labels += [label]*test_count[label]\n",
    "\n",
    "train_zip = zip(train_patches, train_labels)\n",
    "test_zip = zip(test_patches, test_labels)\n",
    "random.shuffle(train_zip)\n",
    "random.shuffle(test_zip)\n",
    "train_patches, train_labels = zip(*train_zip)\n",
    "test_patches, test_labels = zip(*test_zip)\n",
    "train_patches = list(train_patches)\n",
    "train_labels = list(train_labels)\n",
    "test_patches = list(test_patches)\n",
    "test_labels = list(test_labels)\n"
   ]
  },
  {
   "cell_type": "code",
   "execution_count": 13,
   "metadata": {},
   "outputs": [],
   "source": [
    "for i in range(31):\n",
    "    train_dict = {}\n",
    "    if i == 30:\n",
    "        start = i * 1000\n",
    "        end = len(train_patches) + 1\n",
    "    else:    \n",
    "        start = i * 1000\n",
    "        end = (i+1) * 1000\n",
    "    file_name = \"../data/train/\" + str(i) + \".mat\"\n",
    "    train_dict[\"train_patch\"] = train_patches[start:end]\n",
    "    train_dict[\"train_labels\"] = train_labels[start:end]\n",
    "    io.savemat(file_name,train_dict)"
   ]
  },
  {
   "cell_type": "code",
   "execution_count": 15,
   "metadata": {},
   "outputs": [],
   "source": [
    "for i in range(3):\n",
    "    test_dict = {}\n",
    "    if i == 2:\n",
    "        start = i * 1000\n",
    "        end = len(test_patches) + 1\n",
    "    else:\n",
    "        start = i * 1000\n",
    "        end = (i+1) * 1000\n",
    "    file_name = \"../data/test/\" + str(i) + \".mat\"\n",
    "    test_dict[\"test_patch\"] = test_patches[start:end]\n",
    "    test_dict[\"test_labels\"] = test_labels[start:end]\n",
    "    io.savemat(file_name,test_dict)"
   ]
  },
  {
   "cell_type": "code",
   "execution_count": null,
   "metadata": {
    "collapsed": true
   },
   "outputs": [],
   "source": []
  }
 ],
 "metadata": {
  "kernelspec": {
   "display_name": "Python 3",
   "language": "python",
   "name": "python3"
  },
  "language_info": {
   "codemirror_mode": {
    "name": "ipython",
    "version": 3
   },
   "file_extension": ".py",
   "mimetype": "text/x-python",
   "name": "python",
   "nbconvert_exporter": "python",
   "pygments_lexer": "ipython3",
   "version": "3.5.4"
  }
 },
 "nbformat": 4,
 "nbformat_minor": 1
}
