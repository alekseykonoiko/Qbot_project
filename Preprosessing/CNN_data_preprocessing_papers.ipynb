{
 "cells": [
  {
   "cell_type": "code",
   "execution_count": 1,
   "metadata": {},
   "outputs": [
    {
     "name": "stderr",
     "output_type": "stream",
     "text": [
      "Using TensorFlow backend.\n"
     ]
    }
   ],
   "source": [
    "%matplotlib qt #console library to preview images\n",
    "#%matplotlib notebook\n",
    "#%matplotlib inline\n",
    "import os\n",
    "#os.environ['CUDA_VISIBLE_DEVICES'] = '-1' #Comment to Enable GPU\n",
    "import numpy as np\n",
    "from numpy import array\n",
    "from sklearn.preprocessing import MinMaxScaler\n",
    "import scipy.io as sio\n",
    "import matplotlib.pyplot as plt\n"
   ]
  },
  {
   "cell_type": "code",
   "execution_count": 3,
   "metadata": {},
   "outputs": [
    {
     "name": "stdout",
     "output_type": "stream",
     "text": [
      "Indian Pines image shape (145, 145, 220)\n",
      "Pavia University (610, 340, 103)\n"
     ]
    }
   ],
   "source": [
    "#### Load matlab 3 dimensional array into Jupiter notebook ####\n",
    "\n",
    "mat_contents = sio.loadmat('Indian_pines') #loads .mat file\n",
    "indian_pines=mat_contents['indian_pines'] #extracts data from .mat file\n",
    "print ('Indian Pines image shape', indian_pines.shape)\n",
    "mat_contents = sio.loadmat('Indian_pines') #loads .mat file\n",
    "indian_pines=mat_contents['indian_pines'] #extracts data from .mat file\n",
    "print ('Indian Pines image shape', indian_pines.shape)\n",
    "\n",
    "mat_contents = sio.loadmat('PaviaU') #loads .mat file\n",
    "pavia_university=mat_contents['paviaU'] #extracts data from .mat file\n",
    "print ('Pavia University image shape', pavia_university.shape)\n",
    "mat_contents = sio.loadmat('PaviaU') #loads .mat file\n",
    "pavia_university=mat_contents['paviaU'] #extracts data from .mat file\n",
    "print ('Pavia University image shape', pavia_university.shape)\n",
    "\n",
    "mat_contents = sio.loadmat('Salinas') #loads .mat file\n",
    "salinas=mat_contents['salinas'] #extracts data from .mat file\n",
    "print ('Salinas', salinas.shape)\n",
    "mat_contents = sio.loadmat('Salinas') #loads .mat file\n",
    "salinas=mat_contents['salinas'] #extracts data from .mat file\n",
    "print ('Salinas', salinas.shape)"
   ]
  },
  {
   "cell_type": "code",
   "execution_count": 1,
   "metadata": {},
   "outputs": [
    {
     "ename": "NameError",
     "evalue": "name 'pavia_university' is not defined",
     "output_type": "error",
     "traceback": [
      "\u001b[1;31m---------------------------------------------------------------------------\u001b[0m",
      "\u001b[1;31mNameError\u001b[0m                                 Traceback (most recent call last)",
      "\u001b[1;32m<ipython-input-1-21573671cec4>\u001b[0m in \u001b[0;36m<module>\u001b[1;34m()\u001b[0m\n\u001b[1;32m----> 1\u001b[1;33m \u001b[0mpavia_university\u001b[0m\u001b[1;33m.\u001b[0m\u001b[0msize\u001b[0m\u001b[1;33m[\u001b[0m\u001b[1;36m0\u001b[0m\u001b[1;33m]\u001b[0m\u001b[1;33m;\u001b[0m\u001b[1;33m\u001b[0m\u001b[0m\n\u001b[0m",
      "\u001b[1;31mNameError\u001b[0m: name 'pavia_university' is not defined"
     ]
    }
   ],
   "source": [
    "pavia_university.size[0];\n"
   ]
  },
  {
   "cell_type": "code",
   "execution_count": null,
   "metadata": {},
   "outputs": [],
   "source": [
    "#### Segmentation of picture into multiple pictures and arrangment into cifar10 dataset style ####\n",
    "image_data_segments = list()\n",
    "image_data_segments_test = list()\n",
    "n=8 #defines number of segmentation per side (only even number)\n",
    "p=32 #defines target segmented picture size\n",
    "k=0 #counter for picture height segmentation\n",
    "\n",
    "for i in range(0, n):\n",
    "    for j in range(0, n):\n",
    "        #Segments picture row by row\n",
    "        if j<n-1:\n",
    "            sand_0_segment =  sand_0[p*k:p*(k+1),p*j:p*(j+1),:]\n",
    "            image_data_segments.append(sand_0_segment)\n",
    "        else:\n",
    "            sand_0_segment =  sand_0[p*k:p*(k+1),p*j:p*(j+1),:]\n",
    "            image_data_segments_test.append(sand_0_segment)\n",
    "    \n",
    "    for j in range(0, n):\n",
    "        if j<n-1:\n",
    "            sand_5_segment = sand_5[p*k:p*(k+1),p*j:p*(j+1),:]\n",
    "            image_data_segments.append(sand_5_segment)\n",
    "        else:\n",
    "            sand_5_segment = sand_5[p*k:p*(k+1),p*j:p*(j+1),:]\n",
    "            image_data_segments_test.append(sand_5_segment)\n",
    "    k += 1\n",
    "    \n",
    "\n",
    "x_train = array(image_data_segments)\n",
    "x_test = array(image_data_segments_test)\n",
    "print ('x_train shape:', x_train.shape)\n",
    "print ('x_test shape:', x_test.shape)\n",
    "\n",
    "##  Create cifar10 style labels array \n",
    "y_labels = list()\n",
    "y_labels_test = list()\n",
    "label = np.array([0, 1, 2, 3, 4, 5]) #sets label class value\n",
    "\n",
    "for i in range(0, n):\n",
    "    for j in range(0, n): \n",
    "        if i<(n-1):\n",
    "            y_label=label[0]\n",
    "            y_labels.append(y_label)\n",
    "        else:\n",
    "            y_label=label[0]\n",
    "            y_labels_test.append(y_label)\n",
    "            \n",
    "            \n",
    "y_train = array(y_labels)\n",
    "y_train = y_train.reshape(len(x_train), 1)\n",
    "y_test = array(y_labels_test)\n",
    "y_test = y_test.reshape(len(x_test), 1)\n",
    "\n",
    "print ('y_train shape:', y_train.shape)\n",
    "print ('y_test shape:', y_test.shape)\n",
    "#print ('Labels array:', y_train)\n",
    "\n",
    "## hyperparameters section \n",
    "batch_size = 64\n",
    "num_classes = 6\n",
    "epochs = 200\n",
    "\n",
    "## Convert class vectors to binary class matrices.\n",
    "\n",
    "y_train = keras.utils.to_categorical(y_train, num_classes)\n",
    "\n",
    "y_test = keras.utils.to_categorical(y_test, num_classes)\n",
    "\n",
    "#print (y_train)\n",
    "#print (y_test)\n",
    "\n",
    "#### Scale 0-255 bands range into float 0-1 ####\n",
    "x_train = x_train.astype('float32')\n",
    "\n",
    "x_test = x_test.astype('float32')\n",
    "\n",
    "np.asarray(x_train)\n",
    "np.asarray(x_test)\n",
    "np.asarray(y_train)\n",
    "np.asarray(y_test)"
   ]
  },
  {
   "cell_type": "code",
   "execution_count": null,
   "metadata": {},
   "outputs": [],
   "source": [
    "from tempfile import TemporaryFile\n",
    "training_data = TemporaryFile()\n",
    "np.savez_compressed('training_data', x_train=x_train, x_test=x_test, y_train=y_train, y_test=y_test)"
   ]
  }
 ],
 "metadata": {
  "kernelspec": {
   "display_name": "Python 3",
   "language": "python",
   "name": "python3"
  },
  "language_info": {
   "codemirror_mode": {
    "name": "ipython",
    "version": 3
   },
   "file_extension": ".py",
   "mimetype": "text/x-python",
   "name": "python",
   "nbconvert_exporter": "python",
   "pygments_lexer": "ipython3",
   "version": "3.6.6"
  }
 },
 "nbformat": 4,
 "nbformat_minor": 2
}
